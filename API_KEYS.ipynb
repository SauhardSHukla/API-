{
 "cells": [
  {
   "cell_type": "markdown",
   "metadata": {},
   "source": [
    "### API KEYS AUTH\n",
    "### Market API and URL test\n"
   ]
  },
  {
   "cell_type": "code",
   "execution_count": 5,
   "metadata": {},
   "outputs": [],
   "source": [
    "import json\n",
    "import requests"
   ]
  },
  {
   "cell_type": "code",
   "execution_count": null,
   "metadata": {},
   "outputs": [
    {
     "data": {
      "text/plain": [
       "(<Response [200]>,\n",
       " {'ticker': 'AAPL',\n",
       "  'queryCount': 1,\n",
       "  'resultsCount': 1,\n",
       "  'adjusted': True,\n",
       "  'results': [{'v': 70790813.0,\n",
       "    'vw': 131.6292,\n",
       "    'o': 130.465,\n",
       "    'c': 130.15,\n",
       "    'h': 133.41,\n",
       "    'l': 129.89,\n",
       "    't': 1673240400000,\n",
       "    'n': 645365}],\n",
       "  'status': 'OK',\n",
       "  'request_id': 'b01b27ef4fea325e9821ed05d4564d29',\n",
       "  'count': 1})"
      ]
     },
     "execution_count": 21,
     "metadata": {},
     "output_type": "execute_result"
    }
   ],
   "source": [
    "get_url_polygon_io='https://api.polygon.io/v2/aggs/ticker/AAPL/range/1/day/2023-01-09/2023-01-09?'\n",
    "api_key=open('Polygen_api_range.txt','r').read()\n",
    "#\n",
    "Header = {\n",
    "    'Content-Type':'application/json',\n",
    "    'Authorization': f'Bearer{api_key} '\n",
    "}\n",
    "\n",
    "#\n",
    "req_url_polygon = requests.get(get_url_polygon_io,headers=Header)\n",
    "req_url_polygon,req_url_polygon.json()"
   ]
  },
  {
   "cell_type": "code",
   "execution_count": null,
   "metadata": {},
   "outputs": [
    {
     "name": "stdout",
     "output_type": "stream",
     "text": [
      "Hey Yash\n",
      "thnks Yash\n",
      "Hey Sauhard\n",
      "thnks Sauhard\n"
     ]
    }
   ],
   "source": [
    "#Sync Python CODE\n",
    "import time\n",
    "def greet(name):\n",
    "    print(f'Hey {name}')\n",
    "    time.sleep(3)\n",
    "    print(f'thnks {name}')\n",
    "\n",
    "greet('Yash')\n",
    "greet('Sauhard')\n"
   ]
  },
  {
   "cell_type": "code",
   "execution_count": null,
   "metadata": {},
   "outputs": [
    {
     "name": "stdout",
     "output_type": "stream",
     "text": [
      "Hello world Yash\n",
      "Hello world Sauhard\n"
     ]
    },
    {
     "name": "stdout",
     "output_type": "stream",
     "text": [
      "Byeee world Yash\n",
      "Byeee world Sauhard\n"
     ]
    }
   ],
   "source": [
    "#CODE using  Asyncio\n",
    "import asyncio\n",
    "\n",
    "async def gret (name):\n",
    "    print(f\"Hello world {name}\")\n",
    "    await asyncio.sleep(1)\n",
    "    print(f'Byeee world {name}')\n",
    "\n",
    "async def main():\n",
    "    task1  = asyncio.create_task(gret('Yash'))\n",
    "    task2 = asyncio.create_task(gret('Sauhard'))\n",
    "\n",
    "    # await asyncio.gather(task2,task2)\n",
    "await main()"
   ]
  },
  {
   "cell_type": "code",
   "execution_count": null,
   "metadata": {},
   "outputs": [
    {
     "name": "stdout",
     "output_type": "stream",
     "text": [
      "The request is fine:200\n",
      "The request is fine:200\n",
      "The request is fine:200\n",
      "The request is fine:200\n",
      "The request is fine:200\n",
      "The request is fine:200\n",
      "The request is fine:200\n",
      "The request is fine:200\n",
      "The request is fine:200\n",
      "The request is fine:200\n",
      "The request is fine:200\n",
      "The request is fine:200\n",
      "The request is fine:200\n",
      "The request is fine:200\n",
      "The request is fine:200\n"
     ]
    }
   ],
   "source": [
    "import time\n",
    "import requests\n",
    "\n",
    "get_url='https://api.polygon.io/v2/aggs/ticker/AAPL/range/1/day/2023-01-09/2023-01-09?'\n",
    "api_key = open('Polygen_api_range.txt','r').read()\n",
    "Header ={\n",
    "    'Content-Type':'application/json',\n",
    "    'Authorization': f'Bearer {api_key}'\n",
    "}\n",
    "\n",
    "get_req = requests.get(get_url,headers=Header)\n",
    "\n",
    "for i in range(1,16):\n",
    "    if get_req.status_code ==200:\n",
    "        print(f'The request is fine:{get_req.status_code}')\n",
    "        continue\n",
    "    elif get_req.status_code == 429:\n",
    "        print(\"Hey chapm wait we are loading it.....\")\n",
    "        time.sleep(60)\n",
    "        response  = requests.get(get_url,headers=Header)\n",
    "        print(f'We are fine now to the rest of the tasks : {response.status_code}')\n",
    "        continue\n",
    "    else:\n",
    "        print(f'There is some other issue in the code bro...')\n",
    "        break\n"
   ]
  },
  {
   "cell_type": "code",
   "execution_count": null,
   "metadata": {},
   "outputs": [
    {
     "name": "stdout",
     "output_type": "stream",
     "text": [
      "Faacing issue in the code :200\n",
      "Faacing issue in the code :200\n",
      "Faacing issue in the code :200\n",
      "Faacing issue in the code :200\n",
      "Faacing issue in the code :200\n",
      "Faacing issue in the code :200\n",
      "Faacing issue in the code :200\n",
      "Faacing issue in the code :200\n",
      "Faacing issue in the code :200\n",
      "Faacing issue in the code :200\n"
     ]
    }
   ],
   "source": [
    "import time\n",
    "import requests\n",
    "\n",
    "get_url='https://api.polygon.io/v2/aggs/ticker/AAPL/range/1/day/2023-01-09/2023-01-09?'\n",
    "api_key = open('Polygen_api_range.txt','r').read()\n",
    "Header ={\n",
    "    'Content-Type':'application/json',\n",
    "    'Authorization': f'Bearer {api_key}'\n",
    "}\n",
    "\n",
    "response = requests.get(get_url,headers=Header)\n",
    "\n",
    "for i in range(1,11):\n",
    "    try :\n",
    "        response = requests.get(get_req)\n",
    "        response.json()['adjusted']\n",
    "    except:\n",
    "        print(f'Faacing issue in the code :{response.status_code}')\n"
   ]
  },
  {
   "cell_type": "code",
   "execution_count": null,
   "metadata": {},
   "outputs": [
    {
     "name": "stdout",
     "output_type": "stream",
     "text": [
      "Fetching data for Apple Inc. (AAPL)...\n",
      "Global Quote for AAPL: {'01. symbol': 'AAPL', '02. open': '224.5500', '03. high': '225.5900', '04. low': '223.3550', '05. price': '224.2300', '06. volume': '40398299', '07. latest trading day': '2024-11-12', '08. previous close': '224.2300', '09. change': '0.0000', '10. change percent': '0.0000%'}\n"
     ]
    }
   ],
   "source": [
    "import requests\n",
    "import time\n",
    "import json\n",
    "# Alpha Vantage API key\n",
    "API_KEY = open('API_KEYS.txt','r').read()\n",
    "\n",
    "# List of companies and their stock symbols\n",
    "companies = {\n",
    "    'Apple Inc.': 'AAPL'\n",
    "}\n",
    "\n",
    "# Base URL for Alpha Vantage API\n",
    "BASE_URL = 'https://www.alphavantage.co/query'\n",
    "\n",
    "# Function to fetch stock data\n",
    "def fetch_stock_data(symbol):\n",
    "    # API parameters for fetching global stock quote\n",
    "    params = {\n",
    "        'function': 'GLOBAL_QUOTE',  # The Alpha Vantage function to get global stock quotes\n",
    "        'symbol': symbol,            # Stock symbol to get data for\n",
    "        'apikey': API_KEY            # Your Alpha Vantage API key\n",
    "    }\n",
    "    try:\n",
    "        # Send the GET request to the Alpha Vantage API\n",
    "        response = requests.get(BASE_URL, params=params)\n",
    "        response.raise_for_status()\n",
    "\n",
    "        data = response.json()['Global Quote']\n",
    "        \n",
    "        # Print the stock quote for the given symbol\n",
    "        print(f\"Global Quote for {symbol}: {data}\")\n",
    "    \n",
    "    # If an HTTP error occurs\n",
    "    except requests.exceptions.HTTPError as e:\n",
    "        # Handle rate limit exceeded (status code 429)\n",
    "        if response.status_code == 429:\n",
    "            print(f'Rate limit exceeded for {symbol}. Retrying in 60 seconds...')\n",
    "            time.sleep(60)  # Wait for 60 seconds before retrying\n",
    "            fetch_stock_data(symbol)  # Retry the request\n",
    "        \n",
    "        # Handle other HTTP errors\n",
    "        else:\n",
    "            print(f'Error fetching data for {symbol}: {e}')\n",
    "    \n",
    "    # Handle any other errors (e.g., JSON parsing issues)\n",
    "    except Exception as e:\n",
    "        print(f'Error fetching data for {symbol}: {e}')\n",
    "\n",
    "for company, symbol in companies.items():\n",
    "    print(f'Fetching data for {company} ({symbol})...')\n",
    "    fetch_stock_data(symbol)\n",
    "    time.sleep(1)\n",
    "\n"
   ]
  }
 ],
 "metadata": {
  "kernelspec": {
   "display_name": "Python 3",
   "language": "python",
   "name": "python3"
  },
  "language_info": {
   "codemirror_mode": {
    "name": "ipython",
    "version": 3
   },
   "file_extension": ".py",
   "mimetype": "text/x-python",
   "name": "python",
   "nbconvert_exporter": "python",
   "pygments_lexer": "ipython3",
   "version": "3.12.3"
  }
 },
 "nbformat": 4,
 "nbformat_minor": 2
}
