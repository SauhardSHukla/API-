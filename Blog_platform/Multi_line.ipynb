{
 "cells": [
  {
   "cell_type": "markdown",
   "metadata": {},
   "source": [
    "### Multi API Interaction"
   ]
  },
  {
   "cell_type": "code",
   "execution_count": null,
   "metadata": {},
   "outputs": [
    {
     "name": "stdout",
     "output_type": "stream",
     "text": [
      "168\n",
      "2.92\n",
      "78\n",
      "3.13\n",
      "183\n",
      "2.54\n",
      "100\n",
      "4.38\n"
     ]
    }
   ],
   "source": [
    "import requests #ignore \n",
    "# from multiprocessing import pool\n",
    "import time\n",
    "\n",
    "get_url_of_cart ='https://dummyjson.com/carts/1'\n",
    "cart_info = requests.get(get_url_of_cart)\n",
    "\n",
    "#Get the data form the url of the product and the users\n",
    "product_info_get= cart_info.json()['products']\n",
    "user_info_get = cart_info.json()['userId']\n",
    "\n",
    "# Get user info from the API\n",
    "user_info = requests.get(f'https://dummyjson.com/users/{user_info_get}')\n",
    "# user_info = user_info.json()  # Convert the response to a dictionary\n",
    "\n",
    "# # Check if the 'id' field equals 33\n",
    "# if 'id' in user_info and user_info['id'] == 33:\n",
    "#     print(\"yes\")\n",
    "# else:\n",
    "#     print('no noii boii')\n",
    "\n",
    "user_info_data =[user_info.json()['firstName']\n",
    "                 ,user_info.json()['lastName']\n",
    "                 ,user_info.json()['email']\n",
    "                 ,user_info.json()['phone']]\n",
    "\n",
    "# print(user_info_data)\n",
    "\n",
    "for products_id in product_info_get:\n",
    "    pid=  products_id['id']\n",
    "    print(pid)\n",
    "    pid_data = requests.get(f'https://dummyjson.com/products/{pid}')\n",
    "    print(pid_data.json()['rating'])\n"
   ]
  },
  {
   "cell_type": "code",
   "execution_count": 24,
   "metadata": {},
   "outputs": [
    {
     "name": "stdout",
     "output_type": "stream",
     "text": [
      "[[168, 2.92], [78, 3.13], [183, 2.54], [100, 4.38]]\n"
     ]
    }
   ],
   "source": [
    "new_cart_info = cart_info.json()\n",
    "\n",
    "new_cart_info['User_data']= user_info_data\n",
    "new_data_rating=[]\n",
    "for products_id in product_info_get:\n",
    "    pid=  products_id['id']\n",
    "    pid_data = requests.get(f'https://dummyjson.com/products/{pid}')\n",
    "    new_data_rating.append([pid,pid_data.json()['rating']])\n",
    "print(new_data_rating)"
   ]
  },
  {
   "cell_type": "code",
   "execution_count": 25,
   "metadata": {},
   "outputs": [],
   "source": [
    "new_cart_info['products_info']=new_data_rating"
   ]
  },
  {
   "cell_type": "code",
   "execution_count": 30,
   "metadata": {},
   "outputs": [
    {
     "data": {
      "text/plain": [
       "{'id': 1,\n",
       " 'products': [{'id': 168,\n",
       "   'title': 'Charger SXT RWD',\n",
       "   'price': 32999.99,\n",
       "   'quantity': 3,\n",
       "   'total': 98999.97,\n",
       "   'discountPercentage': 13.39,\n",
       "   'discountedTotal': 85743.87,\n",
       "   'thumbnail': 'https://cdn.dummyjson.com/products/images/vehicle/Charger%20SXT%20RWD/thumbnail.png'},\n",
       "  {'id': 78,\n",
       "   'title': 'Apple MacBook Pro 14 Inch Space Grey',\n",
       "   'price': 1999.99,\n",
       "   'quantity': 2,\n",
       "   'total': 3999.98,\n",
       "   'discountPercentage': 18.52,\n",
       "   'discountedTotal': 3259.18,\n",
       "   'thumbnail': 'https://cdn.dummyjson.com/products/images/laptops/Apple%20MacBook%20Pro%2014%20Inch%20Space%20Grey/thumbnail.png'},\n",
       "  {'id': 183,\n",
       "   'title': 'Green Oval Earring',\n",
       "   'price': 24.99,\n",
       "   'quantity': 5,\n",
       "   'total': 124.94999999999999,\n",
       "   'discountPercentage': 6.28,\n",
       "   'discountedTotal': 117.1,\n",
       "   'thumbnail': 'https://cdn.dummyjson.com/products/images/womens-jewellery/Green%20Oval%20Earring/thumbnail.png'},\n",
       "  {'id': 100,\n",
       "   'title': 'Apple Airpods',\n",
       "   'price': 129.99,\n",
       "   'quantity': 5,\n",
       "   'total': 649.95,\n",
       "   'discountPercentage': 12.84,\n",
       "   'discountedTotal': 566.5,\n",
       "   'thumbnail': 'https://cdn.dummyjson.com/products/images/mobile-accessories/Apple%20Airpods/thumbnail.png'}],\n",
       " 'total': 103774.85,\n",
       " 'discountedTotal': 89686.65,\n",
       " 'userId': 33,\n",
       " 'totalProducts': 4,\n",
       " 'totalQuantity': 15,\n",
       " 'User_data': ['Carter',\n",
       "  'Baker',\n",
       "  'carter.baker@x.dummyjson.com',\n",
       "  '+49 787-512-9117'],\n",
       " 'products_info': [[168, 2.92], [78, 3.13], [183, 2.54], [100, 4.38]]}"
      ]
     },
     "execution_count": 30,
     "metadata": {},
     "output_type": "execute_result"
    }
   ],
   "source": [
    "new_cart_info"
   ]
  }
 ],
 "metadata": {
  "kernelspec": {
   "display_name": "Python 3",
   "language": "python",
   "name": "python3"
  },
  "language_info": {
   "codemirror_mode": {
    "name": "ipython",
    "version": 3
   },
   "file_extension": ".py",
   "mimetype": "text/x-python",
   "name": "python",
   "nbconvert_exporter": "python",
   "pygments_lexer": "ipython3",
   "version": "3.12.3"
  }
 },
 "nbformat": 4,
 "nbformat_minor": 2
}
