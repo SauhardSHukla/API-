{
 "cells": [
  {
   "cell_type": "markdown",
   "metadata": {},
   "source": [
    "Problem statement\n",
    "Imagine you're developing a BlogPost Aggregator application that gathers and organizes blog post data from multiple sources using APIs. Your goal is to fetch and display blog post information, including titles and authors, in an organized manner.\n",
    "\n",
    "Exercise\n",
    "Your application needs to perform the following tasks:\n",
    "\n",
    "1. Fetch Users: Retrieve a list of users from the API.\n",
    "2. Fetch Posts: Fetch a list of blog posts from the API.\n",
    "3. Fetch Comments: For each post, fetch the associated comments.\n",
    "4. Organize Data: Organize the fetched data to display blog post titles, authors, and the number of comments each post has.change column name id to userId in users,id to postId in posts and id to commentId,name to commented_by_name, email to commented_by_email, body to comment_body in comments. combine the data"
   ]
  },
  {
   "cell_type": "code",
   "execution_count": null,
   "metadata": {},
   "outputs": [
    {
     "name": "stdout",
     "output_type": "stream",
     "text": [
      "Get Response for link https://jsonplaceholder.typicode.com/users is 200\n",
      "Get Response for link https://jsonplaceholder.typicode.com/posts is 200\n",
      "Get Response for link https://jsonplaceholder.typicode.com/comments is 200\n",
      "                                                                                     num_comments\n",
      "postId title                                              userId name                            \n",
      "1      sunt aut facere repellat provident occaecati ex... 1      Leanne Graham                  5\n",
      "2      qui est esse                                       1      Leanne Graham                  5\n",
      "3      ea molestias quasi exercitationem repellat qui ... 1      Leanne Graham                  5\n",
      "4      eum et est occaecati                               1      Leanne Graham                  5\n",
      "5      nesciunt quas odio                                 1      Leanne Graham                  5\n",
      "...                                                                                           ...\n",
      "96     quaerat velit veniam amet cupiditate aut numqua... 10     Clementina DuBuque             5\n",
      "97     quas fugiat ut perspiciatis vero provident         10     Clementina DuBuque             5\n",
      "98     laboriosam dolor voluptates                        10     Clementina DuBuque             5\n",
      "99     temporibus sit alias delectus eligendi possimus... 10     Clementina DuBuque             5\n",
      "100    at nam consequatur ea labore ea harum              10     Clementina DuBuque             5\n",
      "\n",
      "[100 rows x 1 columns]\n"
     ]
    }
   ],
   "source": [
    "import pandas as pd\n",
    "import requests\n",
    "\n",
    "# Define API endpoints\n",
    "link_mapping = {\n",
    "    \"users\": \"https://jsonplaceholder.typicode.com/users\",\n",
    "    \"posts\": \"https://jsonplaceholder.typicode.com/posts\",\n",
    "    \"comments\": \"https://jsonplaceholder.typicode.com/comments\"\n",
    "}\n",
    "\n",
    "# Function to fetch data from API and convert it into a DataFrame with specific column names\n",
    "def fetch_data(link: str, rename_map: dict) -> pd.DataFrame:\n",
    "    response = requests.get(link)\n",
    "    if response.status_code == 200:\n",
    "        print(f'Get Response for link {link} is {response.status_code}')\n",
    "        data = response.json()\n",
    "        df = pd.DataFrame(data)\n",
    "        df.rename(columns=rename_map, inplace=True)\n",
    "        return df\n",
    "    else:\n",
    "        print(f'Failed to get data from {link}')\n",
    "        return pd.DataFrame()\n",
    "\n",
    "# Rename mappings for each API response\n",
    "rename_mappings = {\n",
    "    \"users\": {\n",
    "        \"id\": \"userId\"\n",
    "    },\n",
    "    \"posts\": {\n",
    "        \"id\": \"postId\",\n",
    "        \"userId\": \"userId\"\n",
    "    },\n",
    "    \"comments\": {\n",
    "        \"id\": \"commentId\",\n",
    "        \"name\": \"commented_by_name\",\n",
    "        \"email\": \"commented_by_email\",\n",
    "        \"body\": \"comment_body\",\n",
    "        \"postId\": \"postId\"\n",
    "    }\n",
    "}\n",
    "\n",
    "# Fetch data and store in DataFrames\n",
    "df_mapping = {}\n",
    "for key in link_mapping:\n",
    "    df_mapping[key] = fetch_data(link_mapping[key], rename_mappings[key])\n",
    "\n",
    "# Merge the DataFrames\n",
    "# Merge users with posts on 'userId'\n",
    "merged_data = pd.merge(df_mapping['posts'], df_mapping['users'], on='userId', how='left')\n",
    "\n",
    "# Merge the result with comments on 'postId'\n",
    "final_data = pd.merge(merged_data, df_mapping['comments'], on='postId', how='left')\n",
    "\n",
    "# Group by post title and count the number of comments\n",
    "organized_data = final_data.groupby(['postId', 'title', 'userId', 'name']).agg(num_comments=('commentId', 'count'))\n",
    "\n",
    "# Display the organized DataFrame\n",
    "print(organized_data)\n"
   ]
  }
 ],
 "metadata": {
  "kernelspec": {
   "display_name": "Python 3",
   "language": "python",
   "name": "python3"
  },
  "language_info": {
   "codemirror_mode": {
    "name": "ipython",
    "version": 3
   },
   "file_extension": ".py",
   "mimetype": "text/x-python",
   "name": "python",
   "nbconvert_exporter": "python",
   "pygments_lexer": "ipython3",
   "version": "3.12.3"
  }
 },
 "nbformat": 4,
 "nbformat_minor": 2
}
